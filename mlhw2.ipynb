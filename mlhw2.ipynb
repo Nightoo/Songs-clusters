{
 "cells": [
  {
   "cell_type": "markdown",
   "id": "54a469e1-85c7-4183-a9a6-4655bef75f06",
   "metadata": {},
   "source": [
    "# Домашнее задание 2\n",
    "\n",
    "Осипов Александр, БПМ213. Машинное обучение в прикладных задачах."
   ]
  },
  {
   "cell_type": "markdown",
   "id": "9e42ad20-cf63-4837-9e29-cf9c6c9f7136",
   "metadata": {},
   "source": [
    "# Линейная регрессия"
   ]
  },
  {
   "cell_type": "code",
   "execution_count": 1,
   "id": "cb3ccef2-3a38-4585-884e-55e189ae5e27",
   "metadata": {},
   "outputs": [],
   "source": [
    "import pandas as pd\n",
    "import numpy as np\n",
    "import matplotlib.pyplot as plt\n",
    "\n",
    "from sklearn.datasets import load_diabetes\n",
    "from sklearn.model_selection import train_test_split\n",
    "from sklearn.discriminant_analysis import LinearDiscriminantAnalysis\n",
    "from sklearn.linear_model import LinearRegression\n",
    "from sklearn.metrics import mean_squared_error,  mean_squared_log_error, mean_absolute_error, r2_score, root_mean_squared_error"
   ]
  },
  {
   "cell_type": "markdown",
   "id": "bd9c5283-b36a-4b53-b0fc-0c54853cee63",
   "metadata": {},
   "source": [
    "#### Загружаем датасет"
   ]
  },
  {
   "cell_type": "code",
   "execution_count": 2,
   "id": "e02a4f22-03ee-4743-8262-85cf6d4acd6c",
   "metadata": {},
   "outputs": [],
   "source": [
    "diabetes = load_diabetes()\n",
    "X = diabetes.data\n",
    "y = diabetes.target"
   ]
  },
  {
   "cell_type": "markdown",
   "id": "5e985ea4-9101-438f-bb17-56567dd4e6c3",
   "metadata": {},
   "source": [
    "#### Используем LDA для понижения размерности данных"
   ]
  },
  {
   "cell_type": "code",
   "execution_count": 3,
   "id": "d22fba44-7c0c-4e98-8961-6f4356ee7d02",
   "metadata": {},
   "outputs": [],
   "source": [
    "lda = LinearDiscriminantAnalysis(n_components=1)\n",
    "X = lda.fit(X, y).transform(X)\n",
    "X_train, X_test, y_train, y_test = train_test_split(X, y, test_size=0.3)"
   ]
  },
  {
   "cell_type": "markdown",
   "id": "fe76528f-fe34-476f-8a2a-7d15412c04a7",
   "metadata": {},
   "source": [
    "# MSE: \n",
    "# $S = \\frac{1}{n} \\sum_{i=1}^{n}(y_i - (ax_i + b))^2$, $y_i$ - реальное, $ax_i + b$ - предсказание\n",
    "# $\\frac{\\partial{S}}{\\partial{a}} = \\frac{-2}{n}\\sum_{i=1}^{n}x_i(y_i −(ax_i +b))$ \n",
    "# $\\frac{\\partial S}{\\partial b} = \\frac{-2}{n}\\sum_{i=1}^{n}(y_i −(ax_i +b))$"
   ]
  },
  {
   "cell_type": "code",
   "execution_count": 4,
   "id": "9524a734-482c-4027-b3cb-3df72e3e1fc3",
   "metadata": {},
   "outputs": [],
   "source": [
    "def gradMSE(X, y, a0, b0, eps, p):\n",
    "    a = a0\n",
    "    b = b0\n",
    "    Xr = X.reshape(-1)\n",
    "    for _ in range(p):\n",
    "        \n",
    "        a = a - eps * (-2) * np.mean(Xr * (y - (a * Xr + b)))\n",
    "        b = b - eps * (-2) * np.mean((y - (a * Xr + b)))\n",
    "\n",
    "    return a, b"
   ]
  },
  {
   "cell_type": "markdown",
   "id": "cec28b9f-19f5-402e-b394-0aac4802a059",
   "metadata": {},
   "source": [
    "# MAE:\n",
    "# $S = \\frac{1}{n} \\sum_{i=1}^{n}|(y_i - (ax_i + b)|$, $y_i$ - реальное, $ax_i + b$ - предсказание\n",
    "# $\\frac{\\partial S}{\\partial a} = \\frac{-1}{n}\\sum_{i=1}^{n}x_i\\frac{y_i −(ax_i +b)}{|y_i −(ax_i +b)|}$\n",
    "# $\\frac{\\partial S}{\\partial b} = \\frac{-1}{n}\\sum_{i=1}^{n}\\frac{y_i −(ax_i +b)}{|y_i −(ax_i +b)|}$"
   ]
  },
  {
   "cell_type": "code",
   "execution_count": 5,
   "id": "31a97c7b-67de-4331-8742-2df30e0270b6",
   "metadata": {},
   "outputs": [],
   "source": [
    "def gradMAE(X, y, a0, b0, eps, p):\n",
    "    a = a0\n",
    "    b = b0\n",
    "    Xr = X.reshape(-1)\n",
    "    for _ in range(p):\n",
    "\n",
    "        a = a + eps * np.mean(Xr * (y - (a * Xr + b)) / np.abs(y - (a * Xr + b)))\n",
    "        b = b + eps * np.mean((y - (a * Xr + b)) / np.abs(y - (a * Xr + b)))\n",
    "\n",
    "    return a, b"
   ]
  },
  {
   "cell_type": "markdown",
   "id": "bd966efb-68c7-4f7b-ada6-b2bef700517f",
   "metadata": {},
   "source": [
    "##### С помощью градиентного спуска находим коэффициенты a и b линейной регрессии\n",
    "##### Таким образом, наше предсказание: aX+b"
   ]
  },
  {
   "cell_type": "code",
   "execution_count": 6,
   "id": "308e526b-d79a-4676-8667-3478ae90ffce",
   "metadata": {},
   "outputs": [],
   "source": [
    "def LinRegMSE(X_train, y_train, X_test, a0=0, b0=0, eps=0.1, p=20):\n",
    "    a_mse, b_mse = gradMSE(X_train, y_train, a0, b0, eps, p)\n",
    "    return (a_mse * X_test + b_mse).reshape(-1)"
   ]
  },
  {
   "cell_type": "code",
   "execution_count": 7,
   "id": "95cb3264-aaa2-474a-93e1-b456f78b89cb",
   "metadata": {},
   "outputs": [],
   "source": [
    "def LinRegMAE(X_train, y_train, X_test, a0=0, b0=0, eps=0.1, p=20):\n",
    "    a_mae, b_mae = gradMAE(X_train, y_train, a0, b0, eps, p)\n",
    "    return (a_mae * X_test + b_mae).reshape(-1) "
   ]
  },
  {
   "cell_type": "markdown",
   "id": "3d7f85c6-3386-4c37-8d8e-0248ca73d511",
   "metadata": {},
   "source": [
    "##### Используем линейную регрессию из sklearn"
   ]
  },
  {
   "cell_type": "code",
   "execution_count": 8,
   "id": "26f78420-5b5d-4bd6-a40d-f2ee3d4fa0b1",
   "metadata": {},
   "outputs": [],
   "source": [
    "LR = LinearRegression().fit(X_train, y_train)\n",
    "y_sk = LR.predict(X_test)\n",
    "y_mse = LinRegMSE(X_train, y_train, X_test)\n",
    "y_mae = LinRegMAE(X_train, y_train, X_test)"
   ]
  },
  {
   "cell_type": "markdown",
   "id": "cbd29feb-5d38-4eb6-a69c-f1cc4560f62a",
   "metadata": {},
   "source": [
    "##### Сравниваем метрики"
   ]
  },
  {
   "cell_type": "code",
   "execution_count": 9,
   "id": "84bc7cf5-9524-49c0-b4fa-4e6a10228573",
   "metadata": {},
   "outputs": [],
   "source": [
    "def metrics_lin(res, test):\n",
    "    print('MSE:', mean_squared_error(res, test))\n",
    "    print('MSLE:', mean_squared_log_error(res, test))\n",
    "    print('MAE:', mean_absolute_error(res, test))\n",
    "    print('R2:', r2_score(res, test))\n",
    "    print('RMSE:', root_mean_squared_error(res, test))\n",
    "    print()\n",
    "    print()"
   ]
  },
  {
   "cell_type": "code",
   "execution_count": 10,
   "id": "4bafc4fa-ab46-4a50-8551-2308ffd6a499",
   "metadata": {},
   "outputs": [
    {
     "name": "stdout",
     "output_type": "stream",
     "text": [
      "---------MSE---------\n",
      "MSE: 2906.655854596005\n",
      "MSLE: 0.1731847499988495\n",
      "MAE: 42.31350285683858\n",
      "R2: 0.06070654516168805\n",
      "RMSE: 53.913410711955564\n",
      "\n",
      "\n",
      "---------MAE---------\n",
      "MSE: 28057.682340572483\n",
      "MSLE: 14.638633297370069\n",
      "MAE: 149.00846623945006\n",
      "R2: -16148075.860472076\n",
      "RMSE: 167.50427558893082\n",
      "\n",
      "\n",
      "-------sklearn-------\n",
      "MSE: 2915.7350385292534\n",
      "MSLE: 0.1741852788965615\n",
      "MAE: 42.36796961675869\n",
      "R2: 0.059011005087225454\n",
      "RMSE: 53.99754659731545\n",
      "\n",
      "\n"
     ]
    }
   ],
   "source": [
    "print('---------MSE---------')\n",
    "metrics_lin(y_mse, y_test)\n",
    "print('---------MAE---------')\n",
    "metrics_lin(y_mae, y_test)\n",
    "print('-------sklearn-------')\n",
    "metrics_lin(y_sk, y_test)"
   ]
  },
  {
   "cell_type": "markdown",
   "id": "1a930f5f-44ea-484e-9f94-b5d0be0fec6d",
   "metadata": {},
   "source": [
    "##### Метрики для нашей MSE и sklearn достаточно близки (если взять больше итераций, будут практически совпадать),\n",
    "##### т.к. sklearn тоже использует MSE для линейной регрессии"
   ]
  },
  {
   "cell_type": "markdown",
   "id": "5a790c1f-a6fe-4bf7-8ea2-8d2bc9b72195",
   "metadata": {},
   "source": [
    "##### Построим графики регрессий"
   ]
  },
  {
   "cell_type": "code",
   "execution_count": 11,
   "id": "9e0dd64c-4023-43c7-b08a-f7ac0f10965e",
   "metadata": {},
   "outputs": [
    {
     "data": {
      "text/plain": [
       "<matplotlib.legend.Legend at 0x20ce8daf520>"
      ]
     },
     "execution_count": 11,
     "metadata": {},
     "output_type": "execute_result"
    },
    {
     "data": {
      "image/png": "[encoded data removed]",
      "text/plain": [
       "<Figure size 640x480 with 1 Axes>"
      ]
     },
     "metadata": {},
     "output_type": "display_data"
    }
   ],
   "source": [
    "plt.scatter(X_train, y_train, s=10, c='g', label='train')\n",
    "plt.scatter(X_test, y_test, s=10, c='r', label='test')\n",
    "xx = np.arange(min(X)[0], max(X)[0], 0.1)\n",
    "\n",
    "a_mse, b_mse = gradMSE(X_train, y_train, 0, 0, 0.1, 20)\n",
    "plt.plot(xx, a_mse * xx + b_mse, c='y', label='MSE (p=20)')\n",
    "\n",
    "a_mae_s, b_mae_s = gradMAE(X_train, y_train, 0, 0, 0.1, 20)\n",
    "plt.plot(xx, a_mae_s * xx + b_mae_s, c='orange', label='MAE (p=20)')\n",
    "\n",
    "a_mae, b_mae = gradMAE(X_train, y_train, 0, 0, 0.1, 5000)\n",
    "plt.plot(xx, a_mae * xx + b_mae, c='b', label='MAE (p=5000)')\n",
    "\n",
    "a_sk, b_sk = LR.coef_, LR.intercept_\n",
    "plt.plot(xx, a_sk * xx + b_sk, c='k', label='sklearn')\n",
    "\n",
    "plt.legend()"
   ]
  },
  {
   "cell_type": "markdown",
   "id": "f71838ae-6d36-4d81-93bd-7eebe750fb25",
   "metadata": {},
   "source": [
    "##### По графику можно сделать такие выводы:\n",
    "##### 1) MAE сходится очень медленно, т.к. в производных коэффициенты только +-1\n",
    "##### 2) MSE и линейная регрессия sklearn практически совпадают\n",
    "##### 3) при большом количестве итераций MAE дает схожие предсказания\n",
    "##### 4) В целом, все три модели достаточно хорошо передают тенденцию, однако в общем случае выбросы могли значительно повляить на коэффициенты и предсказания"
   ]
  },
  {
   "cell_type": "markdown",
   "id": "fc22a78c-bd97-4066-95db-d86441f61ec5",
   "metadata": {},
   "source": [
    "# Кластеризация: о вкусах не спорят"
   ]
  },
  {
   "cell_type": "markdown",
   "id": "a1526858-c55e-49e9-9da8-7991b41c17d2",
   "metadata": {},
   "source": [
    "##### Датасет songs_s:\n",
    "##### artist - исполнитель (4 разных)\n",
    "##### song - название песни (по 40 каждого исполнителя)\n",
    "##### text - до 20 самых частовречающихся слов в песне, исключая частнотные слова английского языка (предлоги, местоимения, частицы)"
   ]
  },
  {
   "cell_type": "code",
   "execution_count": 12,
   "id": "7b89d10a-b0e7-4bf9-9234-a1010c040fd2",
   "metadata": {},
   "outputs": [],
   "source": [
    "songs = pd.read_csv('songs_s.csv')"
   ]
  },
  {
   "cell_type": "code",
   "execution_count": 13,
   "id": "07edc8df-f28d-4a08-b3fe-837f74954156",
   "metadata": {},
   "outputs": [
    {
     "name": "stdout",
     "output_type": "stream",
     "text": [
      "(160, 3)\n"
     ]
    },
    {
     "data": {
      "text/html": [
       "<div>\n",
       "<style scoped>\n",
       "    .dataframe tbody tr th:only-of-type {\n",
       "        vertical-align: middle;\n",
       "    }\n",
       "\n",
       "    .dataframe tbody tr th {\n",
       "        vertical-align: top;\n",
       "    }\n",
       "\n",
       "    .dataframe thead th {\n",
       "        text-align: right;\n",
       "    }\n",
       "</style>\n",
       "<table border=\"1\" class=\"dataframe\">\n",
       "  <thead>\n",
       "    <tr style=\"text-align: right;\">\n",
       "      <th></th>\n",
       "      <th>artist</th>\n",
       "      <th>song</th>\n",
       "      <th>text</th>\n",
       "    </tr>\n",
       "  </thead>\n",
       "  <tbody>\n",
       "    <tr>\n",
       "      <th>0</th>\n",
       "      <td>The Prodigy</td>\n",
       "      <td>Firestarter</td>\n",
       "      <td>hey starter fire twisted yeah trouble punkin i...</td>\n",
       "    </tr>\n",
       "    <tr>\n",
       "      <th>1</th>\n",
       "      <td>The Prodigy</td>\n",
       "      <td>Breathe</td>\n",
       "      <td>come play game breathe exhale pressure ill tes...</td>\n",
       "    </tr>\n",
       "    <tr>\n",
       "      <th>2</th>\n",
       "      <td>The Prodigy</td>\n",
       "      <td>Smack My Bitch Up</td>\n",
       "      <td>bitch smack like change pitch might also likel...</td>\n",
       "    </tr>\n",
       "    <tr>\n",
       "      <th>3</th>\n",
       "      <td>The Prodigy</td>\n",
       "      <td>Diesel Power</td>\n",
       "      <td>blows mind drastically fantastically like powe...</td>\n",
       "    </tr>\n",
       "    <tr>\n",
       "      <th>4</th>\n",
       "      <td>The Prodigy</td>\n",
       "      <td>Out of Space</td>\n",
       "      <td>another ill take brain dimension space gon sen...</td>\n",
       "    </tr>\n",
       "  </tbody>\n",
       "</table>\n",
       "</div>"
      ],
      "text/plain": [
       "        artist               song  \\\n",
       "0  The Prodigy        Firestarter   \n",
       "1  The Prodigy            Breathe   \n",
       "2  The Prodigy  Smack My Bitch Up   \n",
       "3  The Prodigy       Diesel Power   \n",
       "4  The Prodigy       Out of Space   \n",
       "\n",
       "                                                text  \n",
       "0  hey starter fire twisted yeah trouble punkin i...  \n",
       "1  come play game breathe exhale pressure ill tes...  \n",
       "2  bitch smack like change pitch might also likel...  \n",
       "3  blows mind drastically fantastically like powe...  \n",
       "4  another ill take brain dimension space gon sen...  "
      ]
     },
     "execution_count": 13,
     "metadata": {},
     "output_type": "execute_result"
    }
   ],
   "source": [
    "print(songs.shape)\n",
    "songs.head()"
   ]
  },
  {
   "cell_type": "markdown",
   "id": "2bba1e91-4ff1-4f25-a184-e87a55d57d65",
   "metadata": {},
   "source": [
    "##### Будем использовать TF-IDF векторизацию - чем \"важнее\" слово, тем больше результат\n",
    "##### Гипотеза: у одного исполнителя некоторые слова будут использоваться чаще, чем у других исполнителей"
   ]
  },
  {
   "cell_type": "code",
   "execution_count": 14,
   "id": "2dc52c21-45ae-4f11-beb4-5fe245a503b0",
   "metadata": {},
   "outputs": [],
   "source": [
    "from sklearn.feature_extraction.text import TfidfVectorizer\n",
    "\n",
    "vectorizer = TfidfVectorizer(max_features=100)\n",
    "X = vectorizer.fit_transform(songs.text)"
   ]
  },
  {
   "cell_type": "markdown",
   "id": "4b876027-3016-471c-a1b3-609224f0d0b0",
   "metadata": {},
   "source": [
    "##### Используем LabelEncoding, для конвертации исполнителя в числа (в целом, это необязательно, но так будет проще проверить результативность)"
   ]
  },
  {
   "cell_type": "code",
   "execution_count": 15,
   "id": "2b3d7b63-ef0a-4414-a6f8-98ccae60a182",
   "metadata": {},
   "outputs": [
    {
     "data": {
      "text/plain": [
       "['Cannibal Corpse', 'Lil Uzi Vert', 'Taylor Swift', 'The Prodigy']"
      ]
     },
     "execution_count": 15,
     "metadata": {},
     "output_type": "execute_result"
    }
   ],
   "source": [
    "from sklearn.preprocessing import LabelEncoder\n",
    "\n",
    "label_encoder = LabelEncoder()\n",
    "y = label_encoder.fit_transform(songs.artist)\n",
    "artists = list(label_encoder.inverse_transform([0, 1, 2, 3]))\n",
    "artists"
   ]
  },
  {
   "cell_type": "markdown",
   "id": "45328880-e121-4bd6-a912-3f57ad002cc0",
   "metadata": {},
   "source": [
    "##### Разбиваем на train и test выборки"
   ]
  },
  {
   "cell_type": "code",
   "execution_count": 16,
   "id": "b9392b58-68c2-404a-af35-756384d3461f",
   "metadata": {},
   "outputs": [],
   "source": [
    "X_train, X_test, y_train, y_test = train_test_split(X, y, test_size=0.2, random_state=42)"
   ]
  },
  {
   "cell_type": "markdown",
   "id": "dcef6377-3a7e-45de-a5ef-4a65b601aeaf",
   "metadata": {},
   "source": [
    "##### Используем k-means для кластеризации. Число кластеров = число различных исполнителей = 4"
   ]
  },
  {
   "cell_type": "code",
   "execution_count": 17,
   "id": "8442a8de-c0bd-48d9-8cb4-6033d4f21f26",
   "metadata": {},
   "outputs": [
    {
     "data": {
      "text/html": [
       "<style>#sk-container-id-1 {\n",
       "  /* Definition of color scheme common for light and dark mode */\n",
       "  --sklearn-color-text: black;\n",
       "  --sklearn-color-line: gray;\n",
       "  /* Definition of color scheme for unfitted estimators */\n",
       "  --sklearn-color-unfitted-level-0: #fff5e6;\n",
       "  --sklearn-color-unfitted-level-1: #f6e4d2;\n",
       "  --sklearn-color-unfitted-level-2: #ffe0b3;\n",
       "  --sklearn-color-unfitted-level-3: chocolate;\n",
       "  /* Definition of color scheme for fitted estimators */\n",
       "  --sklearn-color-fitted-level-0: #f0f8ff;\n",
       "  --sklearn-color-fitted-level-1: #d4ebff;\n",
       "  --sklearn-color-fitted-level-2: #b3dbfd;\n",
       "  --sklearn-color-fitted-level-3: cornflowerblue;\n",
       "\n",
       "  /* Specific color for light theme */\n",
       "  --sklearn-color-text-on-default-background: var(--sg-text-color, var(--theme-code-foreground, var(--jp-content-font-color1, black)));\n",
       "  --sklearn-color-background: var(--sg-background-color, var(--theme-background, var(--jp-layout-color0, white)));\n",
       "  --sklearn-color-border-box: var(--sg-text-color, var(--theme-code-foreground, var(--jp-content-font-color1, black)));\n",
       "  --sklearn-color-icon: #696969;\n",
       "\n",
       "  @media (prefers-color-scheme: dark) {\n",
       "    /* Redefinition of color scheme for dark theme */\n",
       "    --sklearn-color-text-on-default-background: var(--sg-text-color, var(--theme-code-foreground, var(--jp-content-font-color1, white)));\n",
       "    --sklearn-color-background: var(--sg-background-color, var(--theme-background, var(--jp-layout-color0, #111)));\n",
       "    --sklearn-color-border-box: var(--sg-text-color, var(--theme-code-foreground, var(--jp-content-font-color1, white)));\n",
       "    --sklearn-color-icon: #878787;\n",
       "  }\n",
       "}\n",
       "\n",
       "#sk-container-id-1 {\n",
       "  color: var(--sklearn-color-text);\n",
       "}\n",
       "\n",
       "#sk-container-id-1 pre {\n",
       "  padding: 0;\n",
       "}\n",
       "\n",
       "#sk-container-id-1 input.sk-hidden--visually {\n",
       "  border: 0;\n",
       "  clip: rect(1px 1px 1px 1px);\n",
       "  clip: rect(1px, 1px, 1px, 1px);\n",
       "  height: 1px;\n",
       "  margin: -1px;\n",
       "  overflow: hidden;\n",
       "  padding: 0;\n",
       "  position: absolute;\n",
       "  width: 1px;\n",
       "}\n",
       "\n",
       "#sk-container-id-1 div.sk-dashed-wrapped {\n",
       "  border: 1px dashed var(--sklearn-color-line);\n",
       "  margin: 0 0.4em 0.5em 0.4em;\n",
       "  box-sizing: border-box;\n",
       "  padding-bottom: 0.4em;\n",
       "  background-color: var(--sklearn-color-background);\n",
       "}\n",
       "\n",
       "#sk-container-id-1 div.sk-container {\n",
       "  /* jupyter's `normalize.less` sets `[hidden] { display: none; }`\n",
       "     but bootstrap.min.css set `[hidden] { display: none !important; }`\n",
       "     so we also need the `!important` here to be able to override the\n",
       "     default hidden behavior on the sphinx rendered scikit-learn.org.\n",
       "     See: https://github.com/scikit-learn/scikit-learn/issues/21755 */\n",
       "  display: inline-block !important;\n",
       "  position: relative;\n",
       "}\n",
       "\n",
       "#sk-container-id-1 div.sk-text-repr-fallback {\n",
       "  display: none;\n",
       "}\n",
       "\n",
       "div.sk-parallel-item,\n",
       "div.sk-serial,\n",
       "div.sk-item {\n",
       "  /* draw centered vertical line to link estimators */\n",
       "  background-image: linear-gradient(var(--sklearn-color-text-on-default-background), var(--sklearn-color-text-on-default-background));\n",
       "  background-size: 2px 100%;\n",
       "  background-repeat: no-repeat;\n",
       "  background-position: center center;\n",
       "}\n",
       "\n",
       "/* Parallel-specific style estimator block */\n",
       "\n",
       "#sk-container-id-1 div.sk-parallel-item::after {\n",
       "  content: \"\";\n",
       "  width: 100%;\n",
       "  border-bottom: 2px solid var(--sklearn-color-text-on-default-background);\n",
       "  flex-grow: 1;\n",
       "}\n",
       "\n",
       "#sk-container-id-1 div.sk-parallel {\n",
       "  display: flex;\n",
       "  align-items: stretch;\n",
       "  justify-content: center;\n",
       "  background-color: var(--sklearn-color-background);\n",
       "  position: relative;\n",
       "}\n",
       "\n",
       "#sk-container-id-1 div.sk-parallel-item {\n",
       "  display: flex;\n",
       "  flex-direction: column;\n",
       "}\n",
       "\n",
       "#sk-container-id-1 div.sk-parallel-item:first-child::after {\n",
       "  align-self: flex-end;\n",
       "  width: 50%;\n",
       "}\n",
       "\n",
       "#sk-container-id-1 div.sk-parallel-item:last-child::after {\n",
       "  align-self: flex-start;\n",
       "  width: 50%;\n",
       "}\n",
       "\n",
       "#sk-container-id-1 div.sk-parallel-item:only-child::after {\n",
       "  width: 0;\n",
       "}\n",
       "\n",
       "/* Serial-specific style estimator block */\n",
       "\n",
       "#sk-container-id-1 div.sk-serial {\n",
       "  display: flex;\n",
       "  flex-direction: column;\n",
       "  align-items: center;\n",
       "  background-color: var(--sklearn-color-background);\n",
       "  padding-right: 1em;\n",
       "  padding-left: 1em;\n",
       "}\n",
       "\n",
       "\n",
       "/* Toggleable style: style used for estimator/Pipeline/ColumnTransformer box that is\n",
       "clickable and can be expanded/collapsed.\n",
       "- Pipeline and ColumnTransformer use this feature and define the default style\n",
       "- Estimators will overwrite some part of the style using the `sk-estimator` class\n",
       "*/\n",
       "\n",
       "/* Pipeline and ColumnTransformer style (default) */\n",
       "\n",
       "#sk-container-id-1 div.sk-toggleable {\n",
       "  /* Default theme specific background. It is overwritten whether we have a\n",
       "  specific estimator or a Pipeline/ColumnTransformer */\n",
       "  background-color: var(--sklearn-color-background);\n",
       "}\n",
       "\n",
       "/* Toggleable label */\n",
       "#sk-container-id-1 label.sk-toggleable__label {\n",
       "  cursor: pointer;\n",
       "  display: block;\n",
       "  width: 100%;\n",
       "  margin-bottom: 0;\n",
       "  padding: 0.5em;\n",
       "  box-sizing: border-box;\n",
       "  text-align: center;\n",
       "}\n",
       "\n",
       "#sk-container-id-1 label.sk-toggleable__label-arrow:before {\n",
       "  /* Arrow on the left of the label */\n",
       "  content: \"▸\";\n",
       "  float: left;\n",
       "  margin-right: 0.25em;\n",
       "  color: var(--sklearn-color-icon);\n",
       "}\n",
       "\n",
       "#sk-container-id-1 label.sk-toggleable__label-arrow:hover:before {\n",
       "  color: var(--sklearn-color-text);\n",
       "}\n",
       "\n",
       "/* Toggleable content - dropdown */\n",
       "\n",
       "#sk-container-id-1 div.sk-toggleable__content {\n",
       "  max-height: 0;\n",
       "  max-width: 0;\n",
       "  overflow: hidden;\n",
       "  text-align: left;\n",
       "  /* unfitted */\n",
       "  background-color: var(--sklearn-color-unfitted-level-0);\n",
       "}\n",
       "\n",
       "#sk-container-id-1 div.sk-toggleable__content.fitted {\n",
       "  /* fitted */\n",
       "  background-color: var(--sklearn-color-fitted-level-0);\n",
       "}\n",
       "\n",
       "#sk-container-id-1 div.sk-toggleable__content pre {\n",
       "  margin: 0.2em;\n",
       "  border-radius: 0.25em;\n",
       "  color: var(--sklearn-color-text);\n",
       "  /* unfitted */\n",
       "  background-color: var(--sklearn-color-unfitted-level-0);\n",
       "}\n",
       "\n",
       "#sk-container-id-1 div.sk-toggleable__content.fitted pre {\n",
       "  /* unfitted */\n",
       "  background-color: var(--sklearn-color-fitted-level-0);\n",
       "}\n",
       "\n",
       "#sk-container-id-1 input.sk-toggleable__control:checked~div.sk-toggleable__content {\n",
       "  /* Expand drop-down */\n",
       "  max-height: 200px;\n",
       "  max-width: 100%;\n",
       "  overflow: auto;\n",
       "}\n",
       "\n",
       "#sk-container-id-1 input.sk-toggleable__control:checked~label.sk-toggleable__label-arrow:before {\n",
       "  content: \"▾\";\n",
       "}\n",
       "\n",
       "/* Pipeline/ColumnTransformer-specific style */\n",
       "\n",
       "#sk-container-id-1 div.sk-label input.sk-toggleable__control:checked~label.sk-toggleable__label {\n",
       "  color: var(--sklearn-color-text);\n",
       "  background-color: var(--sklearn-color-unfitted-level-2);\n",
       "}\n",
       "\n",
       "#sk-container-id-1 div.sk-label.fitted input.sk-toggleable__control:checked~label.sk-toggleable__label {\n",
       "  background-color: var(--sklearn-color-fitted-level-2);\n",
       "}\n",
       "\n",
       "/* Estimator-specific style */\n",
       "\n",
       "/* Colorize estimator box */\n",
       "#sk-container-id-1 div.sk-estimator input.sk-toggleable__control:checked~label.sk-toggleable__label {\n",
       "  /* unfitted */\n",
       "  background-color: var(--sklearn-color-unfitted-level-2);\n",
       "}\n",
       "\n",
       "#sk-container-id-1 div.sk-estimator.fitted input.sk-toggleable__control:checked~label.sk-toggleable__label {\n",
       "  /* fitted */\n",
       "  background-color: var(--sklearn-color-fitted-level-2);\n",
       "}\n",
       "\n",
       "#sk-container-id-1 div.sk-label label.sk-toggleable__label,\n",
       "#sk-container-id-1 div.sk-label label {\n",
       "  /* The background is the default theme color */\n",
       "  color: var(--sklearn-color-text-on-default-background);\n",
       "}\n",
       "\n",
       "/* On hover, darken the color of the background */\n",
       "#sk-container-id-1 div.sk-label:hover label.sk-toggleable__label {\n",
       "  color: var(--sklearn-color-text);\n",
       "  background-color: var(--sklearn-color-unfitted-level-2);\n",
       "}\n",
       "\n",
       "/* Label box, darken color on hover, fitted */\n",
       "#sk-container-id-1 div.sk-label.fitted:hover label.sk-toggleable__label.fitted {\n",
       "  color: var(--sklearn-color-text);\n",
       "  background-color: var(--sklearn-color-fitted-level-2);\n",
       "}\n",
       "\n",
       "/* Estimator label */\n",
       "\n",
       "#sk-container-id-1 div.sk-label label {\n",
       "  font-family: monospace;\n",
       "  font-weight: bold;\n",
       "  display: inline-block;\n",
       "  line-height: 1.2em;\n",
       "}\n",
       "\n",
       "#sk-container-id-1 div.sk-label-container {\n",
       "  text-align: center;\n",
       "}\n",
       "\n",
       "/* Estimator-specific */\n",
       "#sk-container-id-1 div.sk-estimator {\n",
       "  font-family: monospace;\n",
       "  border: 1px dotted var(--sklearn-color-border-box);\n",
       "  border-radius: 0.25em;\n",
       "  box-sizing: border-box;\n",
       "  margin-bottom: 0.5em;\n",
       "  /* unfitted */\n",
       "  background-color: var(--sklearn-color-unfitted-level-0);\n",
       "}\n",
       "\n",
       "#sk-container-id-1 div.sk-estimator.fitted {\n",
       "  /* fitted */\n",
       "  background-color: var(--sklearn-color-fitted-level-0);\n",
       "}\n",
       "\n",
       "/* on hover */\n",
       "#sk-container-id-1 div.sk-estimator:hover {\n",
       "  /* unfitted */\n",
       "  background-color: var(--sklearn-color-unfitted-level-2);\n",
       "}\n",
       "\n",
       "#sk-container-id-1 div.sk-estimator.fitted:hover {\n",
       "  /* fitted */\n",
       "  background-color: var(--sklearn-color-fitted-level-2);\n",
       "}\n",
       "\n",
       "/* Specification for estimator info (e.g. \"i\" and \"?\") */\n",
       "\n",
       "/* Common style for \"i\" and \"?\" */\n",
       "\n",
       ".sk-estimator-doc-link,\n",
       "a:link.sk-estimator-doc-link,\n",
       "a:visited.sk-estimator-doc-link {\n",
       "  float: right;\n",
       "  font-size: smaller;\n",
       "  line-height: 1em;\n",
       "  font-family: monospace;\n",
       "  background-color: var(--sklearn-color-background);\n",
       "  border-radius: 1em;\n",
       "  height: 1em;\n",
       "  width: 1em;\n",
       "  text-decoration: none !important;\n",
       "  margin-left: 1ex;\n",
       "  /* unfitted */\n",
       "  border: var(--sklearn-color-unfitted-level-1) 1pt solid;\n",
       "  color: var(--sklearn-color-unfitted-level-1);\n",
       "}\n",
       "\n",
       ".sk-estimator-doc-link.fitted,\n",
       "a:link.sk-estimator-doc-link.fitted,\n",
       "a:visited.sk-estimator-doc-link.fitted {\n",
       "  /* fitted */\n",
       "  border: var(--sklearn-color-fitted-level-1) 1pt solid;\n",
       "  color: var(--sklearn-color-fitted-level-1);\n",
       "}\n",
       "\n",
       "/* On hover */\n",
       "div.sk-estimator:hover .sk-estimator-doc-link:hover,\n",
       ".sk-estimator-doc-link:hover,\n",
       "div.sk-label-container:hover .sk-estimator-doc-link:hover,\n",
       ".sk-estimator-doc-link:hover {\n",
       "  /* unfitted */\n",
       "  background-color: var(--sklearn-color-unfitted-level-3);\n",
       "  color: var(--sklearn-color-background);\n",
       "  text-decoration: none;\n",
       "}\n",
       "\n",
       "div.sk-estimator.fitted:hover .sk-estimator-doc-link.fitted:hover,\n",
       ".sk-estimator-doc-link.fitted:hover,\n",
       "div.sk-label-container:hover .sk-estimator-doc-link.fitted:hover,\n",
       ".sk-estimator-doc-link.fitted:hover {\n",
       "  /* fitted */\n",
       "  background-color: var(--sklearn-color-fitted-level-3);\n",
       "  color: var(--sklearn-color-background);\n",
       "  text-decoration: none;\n",
       "}\n",
       "\n",
       "/* Span, style for the box shown on hovering the info icon */\n",
       ".sk-estimator-doc-link span {\n",
       "  display: none;\n",
       "  z-index: 9999;\n",
       "  position: relative;\n",
       "  font-weight: normal;\n",
       "  right: .2ex;\n",
       "  padding: .5ex;\n",
       "  margin: .5ex;\n",
       "  width: min-content;\n",
       "  min-width: 20ex;\n",
       "  max-width: 50ex;\n",
       "  color: var(--sklearn-color-text);\n",
       "  box-shadow: 2pt 2pt 4pt #999;\n",
       "  /* unfitted */\n",
       "  background: var(--sklearn-color-unfitted-level-0);\n",
       "  border: .5pt solid var(--sklearn-color-unfitted-level-3);\n",
       "}\n",
       "\n",
       ".sk-estimator-doc-link.fitted span {\n",
       "  /* fitted */\n",
       "  background: var(--sklearn-color-fitted-level-0);\n",
       "  border: var(--sklearn-color-fitted-level-3);\n",
       "}\n",
       "\n",
       ".sk-estimator-doc-link:hover span {\n",
       "  display: block;\n",
       "}\n",
       "\n",
       "/* \"?\"-specific style due to the `<a>` HTML tag */\n",
       "\n",
       "#sk-container-id-1 a.estimator_doc_link {\n",
       "  float: right;\n",
       "  font-size: 1rem;\n",
       "  line-height: 1em;\n",
       "  font-family: monospace;\n",
       "  background-color: var(--sklearn-color-background);\n",
       "  border-radius: 1rem;\n",
       "  height: 1rem;\n",
       "  width: 1rem;\n",
       "  text-decoration: none;\n",
       "  /* unfitted */\n",
       "  color: var(--sklearn-color-unfitted-level-1);\n",
       "  border: var(--sklearn-color-unfitted-level-1) 1pt solid;\n",
       "}\n",
       "\n",
       "#sk-container-id-1 a.estimator_doc_link.fitted {\n",
       "  /* fitted */\n",
       "  border: var(--sklearn-color-fitted-level-1) 1pt solid;\n",
       "  color: var(--sklearn-color-fitted-level-1);\n",
       "}\n",
       "\n",
       "/* On hover */\n",
       "#sk-container-id-1 a.estimator_doc_link:hover {\n",
       "  /* unfitted */\n",
       "  background-color: var(--sklearn-color-unfitted-level-3);\n",
       "  color: var(--sklearn-color-background);\n",
       "  text-decoration: none;\n",
       "}\n",
       "\n",
       "#sk-container-id-1 a.estimator_doc_link.fitted:hover {\n",
       "  /* fitted */\n",
       "  background-color: var(--sklearn-color-fitted-level-3);\n",
       "}\n",
       "</style><div id=\"sk-container-id-1\" class=\"sk-top-container\"><div class=\"sk-text-repr-fallback\"><pre>KMeans(n_clusters=4, random_state=42, tol=0.1)</pre><b>In a Jupyter environment, please rerun this cell to show the HTML representation or trust the notebook. <br />On GitHub, the HTML representation is unable to render, please try loading this page with nbviewer.org.</b></div><div class=\"sk-container\" hidden><div class=\"sk-item\"><div class=\"sk-estimator fitted sk-toggleable\"><input class=\"sk-toggleable__control sk-hidden--visually\" id=\"sk-estimator-id-1\" type=\"checkbox\" checked><label for=\"sk-estimator-id-1\" class=\"sk-toggleable__label fitted sk-toggleable__label-arrow fitted\">&nbsp;&nbsp;KMeans<a class=\"sk-estimator-doc-link fitted\" rel=\"noreferrer\" target=\"_blank\" href=\"https://scikit-learn.org/1.4/modules/generated/sklearn.cluster.KMeans.html\">?<span>Documentation for KMeans</span></a><span class=\"sk-estimator-doc-link fitted\">i<span>Fitted</span></span></label><div class=\"sk-toggleable__content fitted\"><pre>KMeans(n_clusters=4, random_state=42, tol=0.1)</pre></div> </div></div></div></div>"
      ],
      "text/plain": [
       "KMeans(n_clusters=4, random_state=42, tol=0.1)"
      ]
     },
     "execution_count": 17,
     "metadata": {},
     "output_type": "execute_result"
    }
   ],
   "source": [
    "from sklearn.cluster import KMeans\n",
    "\n",
    "num_clusters = len(np.unique(songs.artist))\n",
    "kmeans = KMeans(n_clusters=num_clusters, max_iter=300, tol=0.1, random_state=42)\n",
    "kmeans.fit(X_train, y_train)"
   ]
  },
  {
   "cell_type": "markdown",
   "id": "fac7b370-2e3a-44a4-a7ef-229d90e84acd",
   "metadata": {},
   "source": [
    "##### Посмотрим слова, соответсвующие самым значимым компонентам кластеров"
   ]
  },
  {
   "cell_type": "code",
   "execution_count": 18,
   "id": "6e9e7f79-e811-4638-a8fe-ae68c05245d2",
   "metadata": {},
   "outputs": [
    {
     "name": "stdout",
     "output_type": "stream",
     "text": [
      "Кластер 0:  also  might  come  like  need  theres  yeah  time  ill  hear  no  thats  go  dont  now  fuck  bitch  wont  night  cant \n",
      "Кластер 1:  yeah  like  got  dont  what  so  no  just  bitch  get  know  aint  thats  do  go  money  right  cause  off  uzi \n",
      "Кластер 2:  blood  through  dead  body  death  skin  flesh  life  human  die  eyes  have  way  alone  now  no  never  only  feel  end \n",
      "Кластер 3:  time  out  when  see  never  like  can  oh  just  well  love  know  if  remember  so  think  now  down  have  too \n"
     ]
    }
   ],
   "source": [
    "order_centroids = kmeans.cluster_centers_.argsort()[:, ::-1]\n",
    "terms = vectorizer.get_feature_names_out()\n",
    "for i in range(num_clusters):\n",
    "    print('Кластер ' + str(i) + ':', end=' ')\n",
    "    for ind in order_centroids[i, :20]:\n",
    "        print(' %s ' %terms[ind], end='')\n",
    "    print()"
   ]
  },
  {
   "cell_type": "markdown",
   "id": "0e14bbed-d4b8-4115-a739-ad0e86ff512b",
   "metadata": {},
   "source": [
    "##### Можно заметить паттерны:\n",
    "##### Один из кластеров содержит слова blood, death, body, skin - это кластер группы Cannibal Corpse - дез-метал с тематикой крови и убийств\n",
    "##### Другой содержит слова money и uzi - стереотипно реперские слова, а yeah одно из самых популярных слов - это Lil Uzi Vert\n",
    "##### У Taylor Swift нет мата и слова в целом разнообразнее\n",
    "##### У электронщиков The Prodigy слова разнообразные, но короткие и часто повторяющиеся\n",
    "\n",
    "##### TF-IDF достаточно хорошо разбил слова на кластеры, хотя в них и достаточно много повторений"
   ]
  },
  {
   "cell_type": "code",
   "execution_count": 19,
   "id": "39ee1123-18d4-4c8b-8234-5a0945eb3abb",
   "metadata": {},
   "outputs": [],
   "source": [
    "y_pred_k = kmeans.predict(X_test)"
   ]
  },
  {
   "cell_type": "markdown",
   "id": "5f32112e-9f88-4f65-b9fa-37a5b216d9cf",
   "metadata": {},
   "source": [
    "##### Для сравнения используем MultinomialNB"
   ]
  },
  {
   "cell_type": "code",
   "execution_count": 20,
   "id": "20f72573-58db-4552-a764-690d75aa037c",
   "metadata": {},
   "outputs": [],
   "source": [
    "from sklearn.naive_bayes import MultinomialNB\n",
    "\n",
    "mnb = MultinomialNB()\n",
    "mnb.fit(X_train, y_train)\n",
    "y_pred_c = mnb.predict(X_test)"
   ]
  },
  {
   "cell_type": "markdown",
   "id": "7235bcc1-8238-408f-b94a-de543dce1c7f",
   "metadata": {},
   "source": [
    "##### Посмотри метрики"
   ]
  },
  {
   "cell_type": "code",
   "execution_count": 21,
   "id": "1bd82d4c-5650-468c-aeae-76b62e740620",
   "metadata": {},
   "outputs": [
    {
     "name": "stdout",
     "output_type": "stream",
     "text": [
      "Homogeneity: 0.639\n",
      "Completeness: 0.667\n",
      "V-measure: 0.653\n",
      "Adjusted Rand-Index: 0.571\n",
      "Silhouette Coefficient: 0.070\n"
     ]
    }
   ],
   "source": [
    "from sklearn import metrics\n",
    "\n",
    "print(\"Homogeneity: %0.3f\" % metrics.homogeneity_score(y_train, kmeans.labels_))\n",
    "print(\"Completeness: %0.3f\" % metrics.completeness_score(y_train, kmeans.labels_))\n",
    "print(\"V-measure: %0.3f\" % metrics.v_measure_score(y_train, kmeans.labels_))\n",
    "print(\"Adjusted Rand-Index: %.3f\"\n",
    "      % metrics.adjusted_rand_score(y_train, kmeans.labels_))\n",
    "print(\"Silhouette Coefficient: %0.3f\"\n",
    "      % metrics.silhouette_score(X_train, kmeans.labels_, sample_size=1000))"
   ]
  },
  {
   "cell_type": "markdown",
   "id": "76f750b7-500b-4799-8c8c-d05c083f225c",
   "metadata": {},
   "source": [
    "##### Посмотрим accuracy у kmeans и MultinomialNB"
   ]
  },
  {
   "cell_type": "code",
   "execution_count": 22,
   "id": "3e032bcd-1922-4929-afc8-2f10d37c6091",
   "metadata": {},
   "outputs": [
    {
     "name": "stdout",
     "output_type": "stream",
     "text": [
      "0.3125\n",
      "0.75\n"
     ]
    }
   ],
   "source": [
    "from sklearn.metrics import accuracy_score\n",
    "print(accuracy_score(y_test, y_pred_k))\n",
    "print(accuracy_score(y_test, y_pred_c))"
   ]
  },
  {
   "cell_type": "markdown",
   "id": "bea0ef0e-e4ba-4211-9892-758989f4ba88",
   "metadata": {},
   "source": [
    "##### Для других random_state KMeans показывает accuracy от 0 до 0.8 - так происходит потому, что на самом деле в каждом кластере содержатся\n",
    "##### песни разных исполнителей, т.к. тексты разбиваются по паттернам и частотности - можно сказать, что в общем случае попадание в тот или иной\n",
    "##### кластер ничего не скажет нам об исполнителе"
   ]
  },
  {
   "cell_type": "markdown",
   "id": "9ea97685-e228-4b77-ae05-96e69a2a5afa",
   "metadata": {},
   "source": [
    "##### Multinomial NB дает неплохой результат, т.к. при обучении учитывает не только тексты, но и исполнителей"
   ]
  },
  {
   "cell_type": "code",
   "execution_count": 23,
   "id": "95cb8e7c-f401-47f2-a1b8-9e0680392e7c",
   "metadata": {},
   "outputs": [],
   "source": [
    "def prediction(text, kmeans, mnb, artists):\n",
    "    text_tfidf = vectorizer.transform([text])\n",
    "    print('---' + text + '---')\n",
    "    print('K-Means:', *label_encoder.inverse_transform(kmeans.predict(text_tfidf)))\n",
    "    print('MultinomialNB:', end=' ')\n",
    "    probs = mnb.predict_proba(text_tfidf)[0]\n",
    "    print(label_encoder.inverse_transform(mnb.predict(text_tfidf))[0], '   |    ', end='')\n",
    "    for i in range(len(artists)):\n",
    "        print(artists[i], ' - ', round(probs[i] * 100, 2),'%', sep='', end='; ')\n",
    "    print()\n",
    "    print()"
   ]
  },
  {
   "cell_type": "code",
   "execution_count": 24,
   "id": "435cb562-32dc-43b5-acef-e5269d54b310",
   "metadata": {},
   "outputs": [
    {
     "name": "stdout",
     "output_type": "stream",
     "text": [
      "---yeah money---\n",
      "K-Means: Lil Uzi Vert\n",
      "MultinomialNB: Lil Uzi Vert    |    Cannibal Corpse - 9.47%; Lil Uzi Vert - 62.27%; Taylor Swift - 13.98%; The Prodigy - 14.27%; \n",
      "\n",
      "---blood death---\n",
      "K-Means: Taylor Swift\n",
      "MultinomialNB: Cannibal Corpse    |    Cannibal Corpse - 80.21%; Lil Uzi Vert - 5.99%; Taylor Swift - 6.51%; The Prodigy - 7.3%; \n",
      "\n",
      "---oh love---\n",
      "K-Means: The Prodigy\n",
      "MultinomialNB: Taylor Swift    |    Cannibal Corpse - 10.35%; Lil Uzi Vert - 17.62%; Taylor Swift - 59.42%; The Prodigy - 12.6%; \n",
      "\n",
      "---the---\n",
      "K-Means: The Prodigy\n",
      "MultinomialNB: Taylor Swift    |    Cannibal Corpse - 24.22%; Lil Uzi Vert - 25.78%; Taylor Swift - 26.56%; The Prodigy - 23.44%; \n",
      "\n"
     ]
    }
   ],
   "source": [
    "prediction('yeah money', kmeans, mnb, artists)\n",
    "prediction('blood death', kmeans, mnb, artists)\n",
    "prediction('oh love', kmeans, mnb, artists)\n",
    "prediction('the', kmeans, mnb, artists) #это удаленное слово, его быть не могло: посмотрим исходное разделение "
   ]
  },
  {
   "cell_type": "markdown",
   "id": "4c17c485-430d-495b-856f-355dcf193c33",
   "metadata": {},
   "source": [
    "##### Посмотрим теперь другой датасет: исполнителей 10, у каждого по 20 песен, текст - вся песня целиком"
   ]
  },
  {
   "cell_type": "code",
   "execution_count": 25,
   "id": "f9bc88b6-0a7f-469e-88c7-c7f4392460c3",
   "metadata": {},
   "outputs": [
    {
     "name": "stdout",
     "output_type": "stream",
     "text": [
      "Кластер 0:  just  know  what  how  too  dont  have  make  if  who  start  feel  wanna  made  bad  when  let  did  well  like \n",
      "Кластер 1:  take  got  youll  come  ill  never  off  go  another  look  if  feel  get  when  love  time  out  where  can  like \n",
      "Кластер 2:  wanna  dont  love  life  go  no  ooh  like  yeah  really  want  do  so  night  need  say  feel  stop  know  also \n",
      "Кластер 3:  also  might  come  where  man  life  have  more  had  down  gotta  head  youll  got  good  gonna  hey  ill  how  if \n",
      "Кластер 4:  dead  life  through  now  have  out  more  back  down  world  also  might  like  feel  been  never  see  head  shit  no \n",
      "Кластер 5:  ayy  like  do  cant  time  bitch  out  keep  dont  so  know  get  hey  beat  got  if  remember  fuck  what  gotta \n",
      "Кластер 6:  world  if  call  never  off  make  might  then  love  gonna  know  life  need  money  think  can  time  how  another  also \n",
      "Кластер 7:  down  been  so  well  now  no  like  never  niggas  remember  when  know  cause  out  head  aint  too  got  just  get \n",
      "Кластер 8:  yeah  got  like  bitch  want  just  no  dont  what  make  way  go  oh  ma  back  right  girl  ayy  said  man \n",
      "Кластер 9:  wont  when  said  where  hey  who  no  man  cause  life  off  like  might  back  dont  through  if  know  also  so \n"
     ]
    }
   ],
   "source": [
    "songs = pd.read_csv('songs.csv')\n",
    "vectorizer = TfidfVectorizer(max_features=100)\n",
    "X = vectorizer.fit_transform(songs.text)\n",
    "label_encoder = LabelEncoder()\n",
    "y = label_encoder.fit_transform(songs.artist)\n",
    "artists_ = list(label_encoder.inverse_transform([0, 1, 2, 3, 4, 5, 6, 7, 8, 9]))\n",
    "X_train, X_test, y_train, y_test = train_test_split(X, y, test_size=0.2, random_state=40)\n",
    "num_clusters = len(np.unique(songs.artist))\n",
    "kmeans_ = KMeans(n_clusters=num_clusters, max_iter=300, tol=0.1, random_state=40)\n",
    "kmeans_.fit(X_train, y_train)\n",
    "order_centroids = kmeans_.cluster_centers_.argsort()[:, ::-1]\n",
    "terms = vectorizer.get_feature_names_out()\n",
    "for i in range(num_clusters):\n",
    "    print('Кластер ' + str(i) + ':', end=' ')\n",
    "    for ind in order_centroids[i, :20]:\n",
    "        print(' %s ' %terms[ind], end='')\n",
    "    print()"
   ]
  },
  {
   "cell_type": "markdown",
   "id": "cc086be7-5065-423b-8445-9098754e7197",
   "metadata": {},
   "source": [
    "##### Теперь кластеры еще больше похожи друг на друга, тяжело разделить их; например, значительно менее выраженным стал довольно яркий кластер Cannibal Corpse"
   ]
  },
  {
   "cell_type": "code",
   "execution_count": 26,
   "id": "6b9e9257-ee8f-433d-9dd8-5fc6fce5be2a",
   "metadata": {},
   "outputs": [
    {
     "name": "stdout",
     "output_type": "stream",
     "text": [
      "Homogeneity: 0.316\n",
      "Completeness: 0.329\n",
      "V-measure: 0.322\n",
      "Adjusted Rand-Index: 0.143\n",
      "Silhouette Coefficient: 0.049\n"
     ]
    }
   ],
   "source": [
    "y_pred_k = kmeans_.predict(X_test)\n",
    "mnb_ = MultinomialNB()\n",
    "mnb_.fit(X_train, y_train)\n",
    "y_pred_c = mnb_.predict(X_test)\n",
    "print(\"Homogeneity: %0.3f\" % metrics.homogeneity_score(y_train, kmeans_.labels_))\n",
    "print(\"Completeness: %0.3f\" % metrics.completeness_score(y_train, kmeans_.labels_))\n",
    "print(\"V-measure: %0.3f\" % metrics.v_measure_score(y_train, kmeans_.labels_))\n",
    "print(\"Adjusted Rand-Index: %.3f\"\n",
    "      % metrics.adjusted_rand_score(y_train, kmeans_.labels_))\n",
    "print(\"Silhouette Coefficient: %0.3f\"\n",
    "      % metrics.silhouette_score(X_train, kmeans_.labels_, sample_size=1000))"
   ]
  },
  {
   "cell_type": "markdown",
   "id": "24641051-3890-4810-9e90-8817af51c803",
   "metadata": {},
   "source": [
    "##### Метрики тоже изменились"
   ]
  },
  {
   "cell_type": "code",
   "execution_count": 27,
   "id": "f1fd3e02-3267-41a5-adbb-18d28ffcd037",
   "metadata": {},
   "outputs": [
    {
     "name": "stdout",
     "output_type": "stream",
     "text": [
      "0.1\n",
      "0.25\n"
     ]
    }
   ],
   "source": [
    "print(accuracy_score(y_test, y_pred_k))\n",
    "print(accuracy_score(y_test, y_pred_c))"
   ]
  },
  {
   "cell_type": "code",
   "execution_count": 28,
   "id": "fe034430-5377-4cc7-8d67-6b2ea360efd8",
   "metadata": {},
   "outputs": [
    {
     "name": "stdout",
     "output_type": "stream",
     "text": [
      "---yeah money---\n",
      "K-Means: The Prodigy\n",
      "MultinomialNB: Lil Uzi Vert    |    Cannibal Corpse - 6.87%; Fiona Apple - 5.29%; Johnny Cash - 5.75%; Kanye West - 17.05%; Lil Uzi Vert - 26.13%; Michael Jackson - 7.41%; Napalm Death - 5.59%; Taylor Swift - 9.13%; The Prodigy - 10.33%; XXXTENTACION - 6.44%; \n",
      "\n",
      "---blood death---\n",
      "K-Means: Cannibal Corpse\n",
      "MultinomialNB: Cannibal Corpse    |    Cannibal Corpse - 11.25%; Fiona Apple - 10.63%; Johnny Cash - 10.0%; Kanye West - 11.25%; Lil Uzi Vert - 9.38%; Michael Jackson - 8.75%; Napalm Death - 8.75%; Taylor Swift - 11.25%; The Prodigy - 10.63%; XXXTENTACION - 8.13%; \n",
      "\n",
      "---oh love---\n",
      "K-Means: Johnny Cash\n",
      "MultinomialNB: Taylor Swift    |    Cannibal Corpse - 7.94%; Fiona Apple - 13.21%; Johnny Cash - 10.6%; Kanye West - 12.13%; Lil Uzi Vert - 7.88%; Michael Jackson - 11.36%; Napalm Death - 7.17%; Taylor Swift - 13.44%; The Prodigy - 9.47%; XXXTENTACION - 6.79%; \n",
      "\n",
      "---the---\n",
      "K-Means: Cannibal Corpse\n",
      "MultinomialNB: Cannibal Corpse    |    Cannibal Corpse - 11.25%; Fiona Apple - 10.63%; Johnny Cash - 10.0%; Kanye West - 11.25%; Lil Uzi Vert - 9.38%; Michael Jackson - 8.75%; Napalm Death - 8.75%; Taylor Swift - 11.25%; The Prodigy - 10.63%; XXXTENTACION - 8.13%; \n",
      "\n"
     ]
    }
   ],
   "source": [
    "prediction('yeah money', kmeans_, mnb_, artists_)\n",
    "prediction('blood death', kmeans_, mnb_, artists_)\n",
    "prediction('oh love', kmeans_, mnb_, artists_)\n",
    "prediction('the', kmeans_, mnb_, artists_)"
   ]
  },
  {
   "cell_type": "markdown",
   "id": "07d95b59-1626-4163-a834-d98933756497",
   "metadata": {},
   "source": [
    "##### Можно также попробовать сгруппировать исполнителей на меньшее число кластеров - вероятно, рокеры попали бы в один кластер, реперы в другой и т.д."
   ]
  },
  {
   "cell_type": "markdown",
   "id": "784fa6d4-2104-4a45-a8ea-a4fd15220fc1",
   "metadata": {},
   "source": [
    "##### Вывод: кластеризовать музыку по текстам можно, если количество кластеров будет небольшим и исполнители разнообразными.\n",
    "##### Например, разделять метал с жесткой тематикой (Cannibal Corpse) и стереотипный рэп с характерными словами (Lil Uzi Vert) можно,\n",
    "##### а разделять поп-музыку про любовь (Taylor Swift, Fiona Apple) - ненадежно"
   ]
  },
  {
   "cell_type": "markdown",
   "id": "1bfe95ab-edb3-43ca-8dbf-9f41c0b834c7",
   "metadata": {},
   "source": [
    "##### Таким образом, кластеризация текстов песен с помощью k-means зависит от входных данных; в общем случае кластеризация по исполнителям не будет давать надежных результатов"
   ]
  },
  {
   "cell_type": "code",
   "execution_count": null,
   "id": "2ceabb76-6bc6-462c-a0a5-28678fc4e948",
   "metadata": {},
   "outputs": [],
   "source": []
  }
 ],
 "metadata": {
  "kernelspec": {
   "display_name": "Python 3 (ipykernel)",
   "language": "python",
   "name": "python3"
  },
  "language_info": {
   "codemirror_mode": {
    "name": "ipython",
    "version": 3
   },
   "file_extension": ".py",
   "mimetype": "text/x-python",
   "name": "python",
   "nbconvert_exporter": "python",
   "pygments_lexer": "ipython3",
   "version": "3.9.6"
  }
 },
 "nbformat": 4,
 "nbformat_minor": 5
}
